{
 "cells": [
  {
   "cell_type": "markdown",
   "id": "8b6688a7",
   "metadata": {},
   "source": [
    "# LetsGrowMoreVIP - Data Science Internship\n",
    "Beginner Level Task-4 - Image to Pencil Sketch with Python\n",
    "\n",
    "Completed by - Siddharth Maheshwar Wagh\n"
   ]
  },
  {
   "cell_type": "code",
   "execution_count": 1,
   "id": "d8791a4d",
   "metadata": {},
   "outputs": [],
   "source": [
    "\n",
    "import cv2\n",
    "\n",
    "location = 'C:/Users/Asus/OneDrive/Desktop/LGMVIP/Task 4 - Image to Pencil Sketch with Python/'\n",
    "filename = 'saitama.jpg'\n",
    "\n",
    "\n",
    "# Reading the original image\n",
    "image = cv2.imread(location + filename)\n",
    "\n",
    "# Reading the black and white image\n",
    "bw_image = cv2.cvtColor(image, cv2.COLOR_BGR2GRAY)\n",
    "\n",
    "# Inverting the image\n",
    "inverted_image = 255 - bw_image\n",
    "\n",
    "# Blurring the image\n",
    "blurred_image = cv2.GaussianBlur(inverted_image, (21,21), 0)\n",
    "\n",
    "# Inverting the blurred image\n",
    "inverted_blurred_image = 255 - blurred_image\n",
    "\n",
    "# Creating the Pencil Sketch image\n",
    "pencil_sketch_image = cv2.divide(bw_image, inverted_blurred_image, scale=256.0)\n",
    "\n",
    "\n",
    "# Displaying the Original Image\n",
    "cv2.imshow('Original Image', image)\n",
    "\n",
    "# Displaying the Black and White Image\n",
    "cv2.imshow('B&W Image', bw_image)\n",
    "\n",
    "# Displaying the Inverted Image\n",
    "cv2.imshow('Inverted Image', inverted_image)\n",
    "\n",
    "# Displaying the Blurred Image\n",
    "cv2.imshow('Blurred Image', blurred_image)\n",
    "\n",
    "# Displaying the Inverted Blurred Image\n",
    "cv2.imshow('Inverted Blurred Image', inverted_blurred_image)\n",
    "\n",
    "# Displaying the Pencil Sketch Image\n",
    "cv2.imshow('Pencil Sketch Image', pencil_sketch_image)\n",
    "\n",
    "\n",
    "cv2.waitKey(0) "
   ]
  },
  {
   "cell_type": "code",
   "execution_count": null,
   "id": "8e955661",
   "metadata": {},
   "outputs": [],
   "source": []
  },
  {
   "cell_type": "code",
   "execution_count": null,
   "id": "52c55632",
   "metadata": {},
   "outputs": [],
   "source": []
  },
  {
   "cell_type": "code",
   "execution_count": null,
   "id": "d083bb2b",
   "metadata": {},
   "outputs": [],
   "source": []
  },
  {
   "cell_type": "code",
   "execution_count": null,
   "id": "96f52bb0",
   "metadata": {},
   "outputs": [],
   "source": []
  }
 ],
 "metadata": {
  "interpreter": {
   "hash": "107d7b120a5b68773a87d4067e673630b35702e55ebab3138143d08b1c4d7cbc"
  },
  "kernelspec": {
   "display_name": "Python 3.10.0 64-bit",
   "language": "python",
   "name": "python3"
  },
  "language_info": {
   "codemirror_mode": {
    "name": "ipython",
    "version": 3
   },
   "file_extension": ".py",
   "mimetype": "text/x-python",
   "name": "python",
   "nbconvert_exporter": "python",
   "pygments_lexer": "ipython3",
   "version": "3.10.0"
  }
 },
 "nbformat": 4,
 "nbformat_minor": 5
}
